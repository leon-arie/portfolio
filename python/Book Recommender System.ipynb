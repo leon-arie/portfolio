{
 "cells": [
  {
   "cell_type": "code",
   "execution_count": 10,
   "id": "2981aecb",
   "metadata": {},
   "outputs": [],
   "source": [
    "import pandas as pd\n",
    "import mysql.connector\n",
    "from sklearn.feature_extraction.text import CountVectorizer\n",
    "from sklearn.metrics.pairwise import cosine_similarity\n",
    "from nltk.sentiment.vader import SentimentIntensityAnalyzer\n",
    "from IPython.display import Markdown, display\n",
    "\n",
    "#!pip install mysql-connector-python"
   ]
  },
  {
   "cell_type": "markdown",
   "id": "56bfe766",
   "metadata": {},
   "source": [
    "## Book Recommender System \n",
    "\n",
    "This project adapts my previous book recommender system project by adding over 200K rows of book data from Google Books and 3 million book reviews from Amazon. The data was first cleaned in Python and then later added to a SQL database for safe keeping and secure access. \n",
    "\n",
    "I've adapted the code by adding new inputs to my model. We look at book description data as well as title name, average book review score and review sentiment. This recommender is a big improvement from my first attempt and does a better job at recommending similar books based on user input."
   ]
  },
  {
   "cell_type": "markdown",
   "id": "11601a9a",
   "metadata": {},
   "source": [
    "### User Input\n",
    "This user input will be used to filiter down our database to the most relevant results."
   ]
  },
  {
   "cell_type": "code",
   "execution_count": 5,
   "id": "c0548046",
   "metadata": {},
   "outputs": [
    {
     "name": "stdout",
     "output_type": "stream",
     "text": [
      "Enter a title of a book or a topic that you want to learn about: Learning how to draw\n",
      "Enter a rating from 1-5. 1 being the lowest and 5 being the highest: 4.0\n",
      "Enter a book genre: art\n"
     ]
    }
   ],
   "source": [
    "user_input = input(\"Enter a title of a book or a topic that you want to learn about: \")\n",
    "score_above = input(\"Enter a rating from 1-5. 1 being the lowest and 5 being the highest: \")\n",
    "user_category= input(\"Enter a book genre: \")"
   ]
  },
  {
   "cell_type": "code",
   "execution_count": null,
   "id": "68a936ae",
   "metadata": {},
   "outputs": [],
   "source": [
    "#user_input = 'Learning how to draw'\n",
    "#score_above = 4.0\n",
    "#user_category= 'art'"
   ]
  },
  {
   "cell_type": "markdown",
   "id": "b2602f59",
   "metadata": {},
   "source": [
    "### Connecting to MySQL\n",
    "This cell connects MySQL and executes a query."
   ]
  },
  {
   "cell_type": "code",
   "execution_count": 6,
   "id": "9b5c718c",
   "metadata": {},
   "outputs": [],
   "source": [
    "# Establish a connection to the MySQL database\n",
    "conn = mysql.connector.connect(\n",
    "    host=\"localhost\",\n",
    "    user=\"root\",\n",
    "    password=\"password\",\n",
    "    database=\"goodreads\"\n",
    ")\n",
    "\n",
    "cursor = conn.cursor()\n",
    "\n",
    "# Execute a query\n",
    "#cursor.execute(f\"SELECT book_avg_score.Title, Categories FROM book_avg_score INNER JOIN book_categories ON book_avg_score.Title = book_categories.Title WHERE avg_review_score>={score_above} AND Categories LIKE '%{user_category}%';\")\n",
    "cursor.execute(f\"SELECT reviews.Title, Description, Authors, review_score, review_text, Categories FROM reviews INNER JOIN book_data ON reviews.Title = book_data.Title  WHERE reviews.Title IN ( SELECT book_avg_score.Title FROM book_avg_score INNER JOIN book_categories ON book_avg_score.Title = book_categories.Title WHERE avg_review_score>={score_above} AND Categories LIKE '{user_category}');\")\n",
    "\n",
    "# Fetch and print the results\n",
    "results = cursor.fetchall()\n",
    "\n",
    "# Create a DataFrame\n",
    "book_data_df = pd.DataFrame(results, columns=[desc[0] for desc in cursor.description])\n",
    "\n",
    "\n",
    "cursor.close()\n",
    "conn.close()"
   ]
  },
  {
   "cell_type": "markdown",
   "id": "3c79fdfd",
   "metadata": {},
   "source": [
    "### Add SQL Data into a Dataframe"
   ]
  },
  {
   "cell_type": "code",
   "execution_count": 7,
   "id": "5eec8612",
   "metadata": {},
   "outputs": [],
   "source": [
    "book_data_df.to_csv('book_query_data.csv')\n",
    "book_data_df = pd.read_csv(\"book_query_data.csv\")\n",
    "book_data_df = book_data_df.drop(columns=['Unnamed: 0'])\n",
    "book_data_df['Description'].fillna('NA', inplace=True)"
   ]
  },
  {
   "cell_type": "code",
   "execution_count": 8,
   "id": "be8113b1",
   "metadata": {},
   "outputs": [
    {
     "name": "stdout",
     "output_type": "stream",
     "text": [
      "<class 'pandas.core.frame.DataFrame'>\n",
      "RangeIndex: 11537 entries, 0 to 11536\n",
      "Data columns (total 6 columns):\n",
      " #   Column        Non-Null Count  Dtype  \n",
      "---  ------        --------------  -----  \n",
      " 0   Title         11537 non-null  object \n",
      " 1   Description   11537 non-null  object \n",
      " 2   Authors       11104 non-null  object \n",
      " 3   review_score  11537 non-null  float64\n",
      " 4   review_text   11537 non-null  object \n",
      " 5   Categories    11247 non-null  object \n",
      "dtypes: float64(1), object(5)\n",
      "memory usage: 540.9+ KB\n"
     ]
    }
   ],
   "source": [
    "book_data_df.info()"
   ]
  },
  {
   "cell_type": "markdown",
   "id": "72be146b",
   "metadata": {},
   "source": [
    "### Main Book Recommender Function\n",
    "\n",
    "#### Cleaning User Input\n",
    "1. The code defines a function called get_recommendations that takes a book title, similarity scores, and book data as input.\n",
    "2. The function prepares the user's input by cleaning it up (lowercasing, removing extra spaces).\n",
    "\n",
    "#### Calculate Similarity Score\n",
    "3. It compares the user's title with all the book titles and calculates a similarity score for each book.\n",
    "4. It does the same for the book descriptions, comparing the user's input with all the descriptions.\n",
    "5. The code combines the similarity scores from the title and description to get an overall similarity score for each book.\n",
    "\n",
    "#### Sort Top Scores\n",
    "6. It sorts the books based on the combined similarity scores, so the most similar books are at the top.\n",
    "7. The function selects the top recommended books based on the number of recommendations specified.\n",
    "8. It retrieves additional information about the recommended books, such as their description, categories, authors, review text, and review score.\n",
    "\n",
    "#### Book Recommendation Output\n",
    "9. The recommended books, along with the selected information, are returned from the function.\n",
    "10. Finally, the code calls the get_recommendations function with appropriate input and stores the result in a variable called book_recommendations.\n",
    "11. The book_recommendations variable represents the recommended books based on the user's input, and it can be used further in the program."
   ]
  },
  {
   "cell_type": "code",
   "execution_count": 19,
   "id": "be551940",
   "metadata": {},
   "outputs": [
    {
     "data": {
      "text/html": [
       "<div>\n",
       "<style scoped>\n",
       "    .dataframe tbody tr th:only-of-type {\n",
       "        vertical-align: middle;\n",
       "    }\n",
       "\n",
       "    .dataframe tbody tr th {\n",
       "        vertical-align: top;\n",
       "    }\n",
       "\n",
       "    .dataframe thead th {\n",
       "        text-align: right;\n",
       "    }\n",
       "</style>\n",
       "<table border=\"1\" class=\"dataframe\">\n",
       "  <thead>\n",
       "    <tr style=\"text-align: right;\">\n",
       "      <th></th>\n",
       "      <th>Title</th>\n",
       "      <th>Description</th>\n",
       "      <th>Categories</th>\n",
       "      <th>Authors</th>\n",
       "      <th>review_text</th>\n",
       "      <th>review_score</th>\n",
       "    </tr>\n",
       "  </thead>\n",
       "  <tbody>\n",
       "    <tr>\n",
       "      <th>10372</th>\n",
       "      <td>Learning by Heart Teachings To Free The Creati...</td>\n",
       "      <td>Tap into your natural ability to create  Engag...</td>\n",
       "      <td>Art</td>\n",
       "      <td>Corita Kent, Jan Steward</td>\n",
       "      <td>After being out of print it is pure joy to hav...</td>\n",
       "      <td>5.0</td>\n",
       "    </tr>\n",
       "    <tr>\n",
       "      <th>10365</th>\n",
       "      <td>Learning by Heart Teachings To Free The Creati...</td>\n",
       "      <td>Tap into your natural ability to create  Engag...</td>\n",
       "      <td>Art</td>\n",
       "      <td>Corita Kent, Jan Steward</td>\n",
       "      <td>Rarely have I met a book that invites me to jo...</td>\n",
       "      <td>5.0</td>\n",
       "    </tr>\n",
       "    <tr>\n",
       "      <th>10360</th>\n",
       "      <td>Learning by Heart Teachings To Free The Creati...</td>\n",
       "      <td>Tap into your natural ability to create  Engag...</td>\n",
       "      <td>Art</td>\n",
       "      <td>Corita Kent, Jan Steward</td>\n",
       "      <td>A Jewish Proverb states A wise teacher makes l...</td>\n",
       "      <td>5.0</td>\n",
       "    </tr>\n",
       "    <tr>\n",
       "      <th>10361</th>\n",
       "      <td>Learning by Heart Teachings To Free The Creati...</td>\n",
       "      <td>Tap into your natural ability to create  Engag...</td>\n",
       "      <td>Art</td>\n",
       "      <td>Corita Kent, Jan Steward</td>\n",
       "      <td>I was hoping for a book that would zing me wit...</td>\n",
       "      <td>3.0</td>\n",
       "    </tr>\n",
       "    <tr>\n",
       "      <th>10362</th>\n",
       "      <td>Learning by Heart Teachings To Free The Creati...</td>\n",
       "      <td>Tap into your natural ability to create  Engag...</td>\n",
       "      <td>Art</td>\n",
       "      <td>Corita Kent, Jan Steward</td>\n",
       "      <td>Fantastic beautiful inspiring book for art and...</td>\n",
       "      <td>5.0</td>\n",
       "    </tr>\n",
       "    <tr>\n",
       "      <th>...</th>\n",
       "      <td>...</td>\n",
       "      <td>...</td>\n",
       "      <td>...</td>\n",
       "      <td>...</td>\n",
       "      <td>...</td>\n",
       "      <td>...</td>\n",
       "    </tr>\n",
       "    <tr>\n",
       "      <th>6065</th>\n",
       "      <td>Human Anatomy  Physiology th Edition</td>\n",
       "      <td>The study of anatomy has long been essential t...</td>\n",
       "      <td>Art</td>\n",
       "      <td>Valerie L. Winslow</td>\n",
       "      <td>I purchased this tome as a refresher volume I ...</td>\n",
       "      <td>5.0</td>\n",
       "    </tr>\n",
       "    <tr>\n",
       "      <th>6064</th>\n",
       "      <td>Human Anatomy  Physiology th Edition</td>\n",
       "      <td>The study of anatomy has long been essential t...</td>\n",
       "      <td>Art</td>\n",
       "      <td>Valerie L. Winslow</td>\n",
       "      <td>I recently read this wonderfully written text ...</td>\n",
       "      <td>5.0</td>\n",
       "    </tr>\n",
       "    <tr>\n",
       "      <th>6063</th>\n",
       "      <td>Human Anatomy  Physiology th Edition</td>\n",
       "      <td>The study of anatomy has long been essential t...</td>\n",
       "      <td>Art</td>\n",
       "      <td>Valerie L. Winslow</td>\n",
       "      <td>I teach human anatomy and phyiology at Merritt...</td>\n",
       "      <td>5.0</td>\n",
       "    </tr>\n",
       "    <tr>\n",
       "      <th>6062</th>\n",
       "      <td>Human Anatomy  Physiology th Edition</td>\n",
       "      <td>The study of anatomy has long been essential t...</td>\n",
       "      <td>Art</td>\n",
       "      <td>Valerie L. Winslow</td>\n",
       "      <td>I used this book as a student and refer to it ...</td>\n",
       "      <td>5.0</td>\n",
       "    </tr>\n",
       "    <tr>\n",
       "      <th>6061</th>\n",
       "      <td>Human Anatomy  Physiology th Edition</td>\n",
       "      <td>The study of anatomy has long been essential t...</td>\n",
       "      <td>Art</td>\n",
       "      <td>Valerie L. Winslow</td>\n",
       "      <td>Unfortunately the book was never received from...</td>\n",
       "      <td>1.0</td>\n",
       "    </tr>\n",
       "  </tbody>\n",
       "</table>\n",
       "<p>10000 rows × 6 columns</p>\n",
       "</div>"
      ],
      "text/plain": [
       "                                                   Title  \\\n",
       "10372  Learning by Heart Teachings To Free The Creati...   \n",
       "10365  Learning by Heart Teachings To Free The Creati...   \n",
       "10360  Learning by Heart Teachings To Free The Creati...   \n",
       "10361  Learning by Heart Teachings To Free The Creati...   \n",
       "10362  Learning by Heart Teachings To Free The Creati...   \n",
       "...                                                  ...   \n",
       "6065                Human Anatomy  Physiology th Edition   \n",
       "6064                Human Anatomy  Physiology th Edition   \n",
       "6063                Human Anatomy  Physiology th Edition   \n",
       "6062                Human Anatomy  Physiology th Edition   \n",
       "6061                Human Anatomy  Physiology th Edition   \n",
       "\n",
       "                                             Description Categories  \\\n",
       "10372  Tap into your natural ability to create  Engag...        Art   \n",
       "10365  Tap into your natural ability to create  Engag...        Art   \n",
       "10360  Tap into your natural ability to create  Engag...        Art   \n",
       "10361  Tap into your natural ability to create  Engag...        Art   \n",
       "10362  Tap into your natural ability to create  Engag...        Art   \n",
       "...                                                  ...        ...   \n",
       "6065   The study of anatomy has long been essential t...        Art   \n",
       "6064   The study of anatomy has long been essential t...        Art   \n",
       "6063   The study of anatomy has long been essential t...        Art   \n",
       "6062   The study of anatomy has long been essential t...        Art   \n",
       "6061   The study of anatomy has long been essential t...        Art   \n",
       "\n",
       "                        Authors  \\\n",
       "10372  Corita Kent, Jan Steward   \n",
       "10365  Corita Kent, Jan Steward   \n",
       "10360  Corita Kent, Jan Steward   \n",
       "10361  Corita Kent, Jan Steward   \n",
       "10362  Corita Kent, Jan Steward   \n",
       "...                         ...   \n",
       "6065         Valerie L. Winslow   \n",
       "6064         Valerie L. Winslow   \n",
       "6063         Valerie L. Winslow   \n",
       "6062         Valerie L. Winslow   \n",
       "6061         Valerie L. Winslow   \n",
       "\n",
       "                                             review_text  review_score  \n",
       "10372  After being out of print it is pure joy to hav...           5.0  \n",
       "10365  Rarely have I met a book that invites me to jo...           5.0  \n",
       "10360  A Jewish Proverb states A wise teacher makes l...           5.0  \n",
       "10361  I was hoping for a book that would zing me wit...           3.0  \n",
       "10362  Fantastic beautiful inspiring book for art and...           5.0  \n",
       "...                                                  ...           ...  \n",
       "6065   I purchased this tome as a refresher volume I ...           5.0  \n",
       "6064   I recently read this wonderfully written text ...           5.0  \n",
       "6063   I teach human anatomy and phyiology at Merritt...           5.0  \n",
       "6062   I used this book as a student and refer to it ...           5.0  \n",
       "6061   Unfortunately the book was never received from...           1.0  \n",
       "\n",
       "[10000 rows x 6 columns]"
      ]
     },
     "execution_count": 19,
     "metadata": {},
     "output_type": "execute_result"
    }
   ],
   "source": [
    "def get_recommendations(title,  df, num_recommendations=10000):\n",
    "    title_lower = title.lower().strip() # Remove leading and trailing whitespaces from the user input\n",
    "    user_input = title_lower\n",
    "\n",
    "    # Preprocess the user input for title\n",
    "    title_vectorizer = CountVectorizer(stop_words='english')\n",
    "    user_title_matrix = title_vectorizer.fit_transform([user_input])\n",
    "\n",
    "    # Preprocess all book titles\n",
    "    title_term_matrix = title_vectorizer.transform(df['Title'])\n",
    "\n",
    "    # Calculate the cosine similarity between the user input and all book titles\n",
    "    title_sim_scores = cosine_similarity(user_title_matrix, title_term_matrix)\n",
    "\n",
    "    # Preprocess the user input for description\n",
    "    description_vectorizer = CountVectorizer(stop_words='english')\n",
    "    user_description_matrix = description_vectorizer.fit_transform([user_input])\n",
    "\n",
    "    # Preprocess all book descriptions\n",
    "    description_term_matrix = description_vectorizer.transform(df['Description'])\n",
    "\n",
    "    # Calculate the cosine similarity between the user input and all book descriptions\n",
    "    description_sim_scores = cosine_similarity(user_description_matrix, description_term_matrix)\n",
    "\n",
    "    # Combine the cosine similarity scores for title and description\n",
    "    combined_sim_scores = title_sim_scores + description_sim_scores\n",
    "\n",
    "    # Flatten the combined similarity scores\n",
    "    combined_sim_scores = combined_sim_scores.flatten()\n",
    "\n",
    "    # Sort the books based on the combined similarity scores\n",
    "    sim_indices = combined_sim_scores.argsort()[::-1]\n",
    "\n",
    "    # Get the indices of the top similar books\n",
    "    top_indices = sim_indices[:num_recommendations]\n",
    "    \n",
    "    # Retrieve the recommendations from the original DataFrame without modifying it\n",
    "    recommendations = df.iloc[top_indices].copy()\n",
    "\n",
    "    # Select specific columns for the recommendations\n",
    "    selected_columns = ['Title', 'Description', 'Categories', 'Authors', 'review_text', 'review_score']\n",
    "    recommendations = recommendations[selected_columns]\n",
    "\n",
    "    return recommendations\n",
    "\n",
    "book_recommendations = get_recommendations(user_input, book_data_df)\n",
    "book_recommendations"
   ]
  },
  {
   "cell_type": "markdown",
   "id": "3f21274d",
   "metadata": {},
   "source": [
    "### Calculating Review Sentiment Score\n",
    "This score is calculated for each individual book review from -1 to 1. The more negative a number is, the more negative review was."
   ]
  },
  {
   "cell_type": "code",
   "execution_count": 15,
   "id": "8d69cdb3",
   "metadata": {},
   "outputs": [
    {
     "data": {
      "text/html": [
       "<div>\n",
       "<style scoped>\n",
       "    .dataframe tbody tr th:only-of-type {\n",
       "        vertical-align: middle;\n",
       "    }\n",
       "\n",
       "    .dataframe tbody tr th {\n",
       "        vertical-align: top;\n",
       "    }\n",
       "\n",
       "    .dataframe thead th {\n",
       "        text-align: right;\n",
       "    }\n",
       "</style>\n",
       "<table border=\"1\" class=\"dataframe\">\n",
       "  <thead>\n",
       "    <tr style=\"text-align: right;\">\n",
       "      <th></th>\n",
       "      <th>Title</th>\n",
       "      <th>Description</th>\n",
       "      <th>Categories</th>\n",
       "      <th>Authors</th>\n",
       "      <th>review_text</th>\n",
       "      <th>review_score</th>\n",
       "      <th>review_sentiment_score</th>\n",
       "    </tr>\n",
       "  </thead>\n",
       "  <tbody>\n",
       "    <tr>\n",
       "      <th>10372</th>\n",
       "      <td>Learning by Heart Teachings To Free The Creati...</td>\n",
       "      <td>Tap into your natural ability to create  Engag...</td>\n",
       "      <td>Art</td>\n",
       "      <td>Corita Kent, Jan Steward</td>\n",
       "      <td>After being out of print it is pure joy to hav...</td>\n",
       "      <td>5.0</td>\n",
       "      <td>0.9831</td>\n",
       "    </tr>\n",
       "    <tr>\n",
       "      <th>10365</th>\n",
       "      <td>Learning by Heart Teachings To Free The Creati...</td>\n",
       "      <td>Tap into your natural ability to create  Engag...</td>\n",
       "      <td>Art</td>\n",
       "      <td>Corita Kent, Jan Steward</td>\n",
       "      <td>Rarely have I met a book that invites me to jo...</td>\n",
       "      <td>5.0</td>\n",
       "      <td>0.9892</td>\n",
       "    </tr>\n",
       "    <tr>\n",
       "      <th>10360</th>\n",
       "      <td>Learning by Heart Teachings To Free The Creati...</td>\n",
       "      <td>Tap into your natural ability to create  Engag...</td>\n",
       "      <td>Art</td>\n",
       "      <td>Corita Kent, Jan Steward</td>\n",
       "      <td>A Jewish Proverb states A wise teacher makes l...</td>\n",
       "      <td>5.0</td>\n",
       "      <td>0.8381</td>\n",
       "    </tr>\n",
       "    <tr>\n",
       "      <th>10361</th>\n",
       "      <td>Learning by Heart Teachings To Free The Creati...</td>\n",
       "      <td>Tap into your natural ability to create  Engag...</td>\n",
       "      <td>Art</td>\n",
       "      <td>Corita Kent, Jan Steward</td>\n",
       "      <td>I was hoping for a book that would zing me wit...</td>\n",
       "      <td>3.0</td>\n",
       "      <td>0.9274</td>\n",
       "    </tr>\n",
       "    <tr>\n",
       "      <th>10362</th>\n",
       "      <td>Learning by Heart Teachings To Free The Creati...</td>\n",
       "      <td>Tap into your natural ability to create  Engag...</td>\n",
       "      <td>Art</td>\n",
       "      <td>Corita Kent, Jan Steward</td>\n",
       "      <td>Fantastic beautiful inspiring book for art and...</td>\n",
       "      <td>5.0</td>\n",
       "      <td>0.8807</td>\n",
       "    </tr>\n",
       "    <tr>\n",
       "      <th>...</th>\n",
       "      <td>...</td>\n",
       "      <td>...</td>\n",
       "      <td>...</td>\n",
       "      <td>...</td>\n",
       "      <td>...</td>\n",
       "      <td>...</td>\n",
       "      <td>...</td>\n",
       "    </tr>\n",
       "    <tr>\n",
       "      <th>6065</th>\n",
       "      <td>Human Anatomy  Physiology th Edition</td>\n",
       "      <td>The study of anatomy has long been essential t...</td>\n",
       "      <td>Art</td>\n",
       "      <td>Valerie L. Winslow</td>\n",
       "      <td>I purchased this tome as a refresher volume I ...</td>\n",
       "      <td>5.0</td>\n",
       "      <td>0.9730</td>\n",
       "    </tr>\n",
       "    <tr>\n",
       "      <th>6064</th>\n",
       "      <td>Human Anatomy  Physiology th Edition</td>\n",
       "      <td>The study of anatomy has long been essential t...</td>\n",
       "      <td>Art</td>\n",
       "      <td>Valerie L. Winslow</td>\n",
       "      <td>I recently read this wonderfully written text ...</td>\n",
       "      <td>5.0</td>\n",
       "      <td>0.8564</td>\n",
       "    </tr>\n",
       "    <tr>\n",
       "      <th>6063</th>\n",
       "      <td>Human Anatomy  Physiology th Edition</td>\n",
       "      <td>The study of anatomy has long been essential t...</td>\n",
       "      <td>Art</td>\n",
       "      <td>Valerie L. Winslow</td>\n",
       "      <td>I teach human anatomy and phyiology at Merritt...</td>\n",
       "      <td>5.0</td>\n",
       "      <td>0.9670</td>\n",
       "    </tr>\n",
       "    <tr>\n",
       "      <th>6062</th>\n",
       "      <td>Human Anatomy  Physiology th Edition</td>\n",
       "      <td>The study of anatomy has long been essential t...</td>\n",
       "      <td>Art</td>\n",
       "      <td>Valerie L. Winslow</td>\n",
       "      <td>I used this book as a student and refer to it ...</td>\n",
       "      <td>5.0</td>\n",
       "      <td>0.9709</td>\n",
       "    </tr>\n",
       "    <tr>\n",
       "      <th>6061</th>\n",
       "      <td>Human Anatomy  Physiology th Edition</td>\n",
       "      <td>The study of anatomy has long been essential t...</td>\n",
       "      <td>Art</td>\n",
       "      <td>Valerie L. Winslow</td>\n",
       "      <td>Unfortunately the book was never received from...</td>\n",
       "      <td>1.0</td>\n",
       "      <td>-0.6124</td>\n",
       "    </tr>\n",
       "  </tbody>\n",
       "</table>\n",
       "<p>10000 rows × 7 columns</p>\n",
       "</div>"
      ],
      "text/plain": [
       "                                                   Title  \\\n",
       "10372  Learning by Heart Teachings To Free The Creati...   \n",
       "10365  Learning by Heart Teachings To Free The Creati...   \n",
       "10360  Learning by Heart Teachings To Free The Creati...   \n",
       "10361  Learning by Heart Teachings To Free The Creati...   \n",
       "10362  Learning by Heart Teachings To Free The Creati...   \n",
       "...                                                  ...   \n",
       "6065                Human Anatomy  Physiology th Edition   \n",
       "6064                Human Anatomy  Physiology th Edition   \n",
       "6063                Human Anatomy  Physiology th Edition   \n",
       "6062                Human Anatomy  Physiology th Edition   \n",
       "6061                Human Anatomy  Physiology th Edition   \n",
       "\n",
       "                                             Description Categories  \\\n",
       "10372  Tap into your natural ability to create  Engag...        Art   \n",
       "10365  Tap into your natural ability to create  Engag...        Art   \n",
       "10360  Tap into your natural ability to create  Engag...        Art   \n",
       "10361  Tap into your natural ability to create  Engag...        Art   \n",
       "10362  Tap into your natural ability to create  Engag...        Art   \n",
       "...                                                  ...        ...   \n",
       "6065   The study of anatomy has long been essential t...        Art   \n",
       "6064   The study of anatomy has long been essential t...        Art   \n",
       "6063   The study of anatomy has long been essential t...        Art   \n",
       "6062   The study of anatomy has long been essential t...        Art   \n",
       "6061   The study of anatomy has long been essential t...        Art   \n",
       "\n",
       "                        Authors  \\\n",
       "10372  Corita Kent, Jan Steward   \n",
       "10365  Corita Kent, Jan Steward   \n",
       "10360  Corita Kent, Jan Steward   \n",
       "10361  Corita Kent, Jan Steward   \n",
       "10362  Corita Kent, Jan Steward   \n",
       "...                         ...   \n",
       "6065         Valerie L. Winslow   \n",
       "6064         Valerie L. Winslow   \n",
       "6063         Valerie L. Winslow   \n",
       "6062         Valerie L. Winslow   \n",
       "6061         Valerie L. Winslow   \n",
       "\n",
       "                                             review_text  review_score  \\\n",
       "10372  After being out of print it is pure joy to hav...           5.0   \n",
       "10365  Rarely have I met a book that invites me to jo...           5.0   \n",
       "10360  A Jewish Proverb states A wise teacher makes l...           5.0   \n",
       "10361  I was hoping for a book that would zing me wit...           3.0   \n",
       "10362  Fantastic beautiful inspiring book for art and...           5.0   \n",
       "...                                                  ...           ...   \n",
       "6065   I purchased this tome as a refresher volume I ...           5.0   \n",
       "6064   I recently read this wonderfully written text ...           5.0   \n",
       "6063   I teach human anatomy and phyiology at Merritt...           5.0   \n",
       "6062   I used this book as a student and refer to it ...           5.0   \n",
       "6061   Unfortunately the book was never received from...           1.0   \n",
       "\n",
       "       review_sentiment_score  \n",
       "10372                  0.9831  \n",
       "10365                  0.9892  \n",
       "10360                  0.8381  \n",
       "10361                  0.9274  \n",
       "10362                  0.8807  \n",
       "...                       ...  \n",
       "6065                   0.9730  \n",
       "6064                   0.8564  \n",
       "6063                   0.9670  \n",
       "6062                   0.9709  \n",
       "6061                  -0.6124  \n",
       "\n",
       "[10000 rows x 7 columns]"
      ]
     },
     "execution_count": 15,
     "metadata": {},
     "output_type": "execute_result"
    }
   ],
   "source": [
    "# Initialize the VADER sentiment analyzer\n",
    "sia = SentimentIntensityAnalyzer()\n",
    "\n",
    "# Perform sentiment analysis on each review\n",
    "sentiment_scores = []\n",
    "for review in book_recommendations['review_text']:\n",
    "    sentiment_scores.append(sia.polarity_scores(review)['compound'])\n",
    "\n",
    "# Add sentiment score column to the DataFrame\n",
    "book_recommendations['review_sentiment_score'] = sentiment_scores\n",
    "\n",
    "# Add sentiment column to the DataFrame\n",
    "book_recommendations"
   ]
  },
  {
   "cell_type": "markdown",
   "id": "87862fbb",
   "metadata": {},
   "source": [
    "### Joining Dataframes and Cleaning \n",
    "The final list of book recommendations was created by joining and grouping different dataframes together. We clean the data for the last time. "
   ]
  },
  {
   "cell_type": "code",
   "execution_count": 16,
   "id": "745264fc",
   "metadata": {},
   "outputs": [
    {
     "data": {
      "text/html": [
       "<div>\n",
       "<style scoped>\n",
       "    .dataframe tbody tr th:only-of-type {\n",
       "        vertical-align: middle;\n",
       "    }\n",
       "\n",
       "    .dataframe tbody tr th {\n",
       "        vertical-align: top;\n",
       "    }\n",
       "\n",
       "    .dataframe thead th {\n",
       "        text-align: right;\n",
       "    }\n",
       "</style>\n",
       "<table border=\"1\" class=\"dataframe\">\n",
       "  <thead>\n",
       "    <tr style=\"text-align: right;\">\n",
       "      <th></th>\n",
       "      <th>Title</th>\n",
       "      <th>Description</th>\n",
       "      <th>Categories</th>\n",
       "      <th>Authors</th>\n",
       "      <th>average_review_sentiment_score</th>\n",
       "      <th>avg_review_score</th>\n",
       "    </tr>\n",
       "  </thead>\n",
       "  <tbody>\n",
       "    <tr>\n",
       "      <th>0</th>\n",
       "      <td>Learning by Heart Teachings To Free The Creati...</td>\n",
       "      <td>Tap into your natural ability to create  Engag...</td>\n",
       "      <td>Art</td>\n",
       "      <td>Corita Kent, Jan Steward</td>\n",
       "      <td>90</td>\n",
       "      <td>4.79</td>\n",
       "    </tr>\n",
       "    <tr>\n",
       "      <th>14</th>\n",
       "      <td>Lets Draw Manga All About Fighting</td>\n",
       "      <td>LETS DRAW MANGAALL ABOUT FIGHTING Urban street...</td>\n",
       "      <td>Art</td>\n",
       "      <td>Makoto Nakajima, Big Mouth Factory</td>\n",
       "      <td>30</td>\n",
       "      <td>4.43</td>\n",
       "    </tr>\n",
       "    <tr>\n",
       "      <th>15</th>\n",
       "      <td>Lets Draw Manga</td>\n",
       "      <td>LETS DRAW MANGAALL ABOUT FIGHTING Urban street...</td>\n",
       "      <td>Art</td>\n",
       "      <td>Makoto Nakajima, Big Mouth Factory</td>\n",
       "      <td>79</td>\n",
       "      <td>4.11</td>\n",
       "    </tr>\n",
       "    <tr>\n",
       "      <th>30</th>\n",
       "      <td>Draw Real People Discover Drawing</td>\n",
       "      <td>Having trouble drawing a nose that looks like ...</td>\n",
       "      <td>Art</td>\n",
       "      <td>Lee Hammond</td>\n",
       "      <td>80</td>\n",
       "      <td>4.60</td>\n",
       "    </tr>\n",
       "    <tr>\n",
       "      <th>35</th>\n",
       "      <td>How to Draw Spiderman Walter Foster How to Dra...</td>\n",
       "      <td>With his spider powers and highflying acrobati...</td>\n",
       "      <td>Art</td>\n",
       "      <td>Walter Foster Creative Team</td>\n",
       "      <td>84</td>\n",
       "      <td>4.50</td>\n",
       "    </tr>\n",
       "    <tr>\n",
       "      <th>...</th>\n",
       "      <td>...</td>\n",
       "      <td>...</td>\n",
       "      <td>...</td>\n",
       "      <td>...</td>\n",
       "      <td>...</td>\n",
       "      <td>...</td>\n",
       "    </tr>\n",
       "    <tr>\n",
       "      <th>9984</th>\n",
       "      <td>Woodtli</td>\n",
       "      <td>Martin Woodtlis perfectionist generous approac...</td>\n",
       "      <td>Art</td>\n",
       "      <td>Martin Woodtli</td>\n",
       "      <td>15</td>\n",
       "      <td>5.00</td>\n",
       "    </tr>\n",
       "    <tr>\n",
       "      <th>9985</th>\n",
       "      <td>LAST OF THE BOHEMIANS</td>\n",
       "      <td>First complete study of these two major Scotti...</td>\n",
       "      <td>Art</td>\n",
       "      <td>ANTIQUE COLLECTO, Roger Bristow</td>\n",
       "      <td>57</td>\n",
       "      <td>5.00</td>\n",
       "    </tr>\n",
       "    <tr>\n",
       "      <th>9986</th>\n",
       "      <td>The Eastern Gate An Invitation to the Arts of ...</td>\n",
       "      <td>An illustrated introduction to the sculpture p...</td>\n",
       "      <td>Art</td>\n",
       "      <td>Janet Gaylord Moore</td>\n",
       "      <td>91</td>\n",
       "      <td>5.00</td>\n",
       "    </tr>\n",
       "    <tr>\n",
       "      <th>9987</th>\n",
       "      <td>Fashion  Surrealism</td>\n",
       "      <td>Drawing on interviews with designers and fashi...</td>\n",
       "      <td>Art</td>\n",
       "      <td>Fred Davis</td>\n",
       "      <td>70</td>\n",
       "      <td>5.00</td>\n",
       "    </tr>\n",
       "    <tr>\n",
       "      <th>9993</th>\n",
       "      <td>Color With Style</td>\n",
       "      <td>More than just another color guide here is the...</td>\n",
       "      <td>Art</td>\n",
       "      <td>Donna Fujii, Judith Walthers von Alten</td>\n",
       "      <td>97</td>\n",
       "      <td>3.00</td>\n",
       "    </tr>\n",
       "  </tbody>\n",
       "</table>\n",
       "<p>1442 rows × 6 columns</p>\n",
       "</div>"
      ],
      "text/plain": [
       "                                                  Title  \\\n",
       "0     Learning by Heart Teachings To Free The Creati...   \n",
       "14                   Lets Draw Manga All About Fighting   \n",
       "15                                      Lets Draw Manga   \n",
       "30                    Draw Real People Discover Drawing   \n",
       "35    How to Draw Spiderman Walter Foster How to Dra...   \n",
       "...                                                 ...   \n",
       "9984                                            Woodtli   \n",
       "9985                              LAST OF THE BOHEMIANS   \n",
       "9986  The Eastern Gate An Invitation to the Arts of ...   \n",
       "9987                                Fashion  Surrealism   \n",
       "9993                                   Color With Style   \n",
       "\n",
       "                                            Description Categories  \\\n",
       "0     Tap into your natural ability to create  Engag...        Art   \n",
       "14    LETS DRAW MANGAALL ABOUT FIGHTING Urban street...        Art   \n",
       "15    LETS DRAW MANGAALL ABOUT FIGHTING Urban street...        Art   \n",
       "30    Having trouble drawing a nose that looks like ...        Art   \n",
       "35    With his spider powers and highflying acrobati...        Art   \n",
       "...                                                 ...        ...   \n",
       "9984  Martin Woodtlis perfectionist generous approac...        Art   \n",
       "9985  First complete study of these two major Scotti...        Art   \n",
       "9986  An illustrated introduction to the sculpture p...        Art   \n",
       "9987  Drawing on interviews with designers and fashi...        Art   \n",
       "9993  More than just another color guide here is the...        Art   \n",
       "\n",
       "                                     Authors  average_review_sentiment_score  \\\n",
       "0                   Corita Kent, Jan Steward                              90   \n",
       "14        Makoto Nakajima, Big Mouth Factory                              30   \n",
       "15        Makoto Nakajima, Big Mouth Factory                              79   \n",
       "30                               Lee Hammond                              80   \n",
       "35               Walter Foster Creative Team                              84   \n",
       "...                                      ...                             ...   \n",
       "9984                          Martin Woodtli                              15   \n",
       "9985         ANTIQUE COLLECTO, Roger Bristow                              57   \n",
       "9986                     Janet Gaylord Moore                              91   \n",
       "9987                              Fred Davis                              70   \n",
       "9993  Donna Fujii, Judith Walthers von Alten                              97   \n",
       "\n",
       "      avg_review_score  \n",
       "0                 4.79  \n",
       "14                4.43  \n",
       "15                4.11  \n",
       "30                4.60  \n",
       "35                4.50  \n",
       "...                ...  \n",
       "9984              5.00  \n",
       "9985              5.00  \n",
       "9986              5.00  \n",
       "9987              5.00  \n",
       "9993              3.00  \n",
       "\n",
       "[1442 rows x 6 columns]"
      ]
     },
     "execution_count": 16,
     "metadata": {},
     "output_type": "execute_result"
    }
   ],
   "source": [
    "book_groupby = book_recommendations.groupby('Title').mean()[['review_sentiment_score', 'review_score']]\n",
    "book_groupby = book_groupby.rename(columns={'review_sentiment_score': 'average_review_sentiment_score', 'review_score': 'avg_review_score' })\n",
    "book_recommendations = book_recommendations.merge(book_groupby, on='Title', how='left')\n",
    "book_recommendations = book_recommendations.drop_duplicates(subset='Title')\n",
    "book_recommendations = book_recommendations.drop(columns=['review_text', 'review_score', 'review_sentiment_score'])\n",
    "book_recommendations['average_review_sentiment_score'] = (book_recommendations['average_review_sentiment_score']* 100).astype(int)\n",
    "book_recommendations['avg_review_score'] = (book_recommendations['avg_review_score']).astype(float).round(2)\n",
    "book_recommendations"
   ]
  },
  {
   "cell_type": "markdown",
   "id": "7742fb68",
   "metadata": {},
   "source": [
    "### Final Output"
   ]
  },
  {
   "cell_type": "code",
   "execution_count": 17,
   "id": "d2ea91e1",
   "metadata": {},
   "outputs": [
    {
     "data": {
      "text/markdown": [
       "**Book**: Learning by Heart Teachings To Free The Creative Spirit"
      ],
      "text/plain": [
       "<IPython.core.display.Markdown object>"
      ]
     },
     "metadata": {},
     "output_type": "display_data"
    },
    {
     "data": {
      "text/markdown": [
       "**Authors**: Corita Kent, Jan Steward"
      ],
      "text/plain": [
       "<IPython.core.display.Markdown object>"
      ]
     },
     "metadata": {},
     "output_type": "display_data"
    },
    {
     "data": {
      "text/markdown": [
       "**Categories**: Art"
      ],
      "text/plain": [
       "<IPython.core.display.Markdown object>"
      ]
     },
     "metadata": {},
     "output_type": "display_data"
    },
    {
     "data": {
      "text/markdown": [
       "**Average Review Score**: 4.79 "
      ],
      "text/plain": [
       "<IPython.core.display.Markdown object>"
      ]
     },
     "metadata": {},
     "output_type": "display_data"
    },
    {
     "data": {
      "text/markdown": [
       "**Review Sentiment Score**: 90 "
      ],
      "text/plain": [
       "<IPython.core.display.Markdown object>"
      ]
     },
     "metadata": {},
     "output_type": "display_data"
    },
    {
     "name": "stdout",
     "output_type": "stream",
     "text": [
      "Tap into your natural ability to create  Engaging proven exercises for developing creativity  Priceless resource for teachers artists actors everyone Artist and educator Corita Kent inspired generations of artists and the truth of her words We can all talk we can all write and if the blocks are removed we can all draw and paint and make things still shines through This revised edition of her classic work Learning by Heart features a new foreword and a chart of curriculum standards Kents original projects and exercises developed through more than  years as an art teacher and richly illustrated with  thoughtprovoking images are as inspiring and as freeing today as they were during her lifetime Learn how to challenge fears be open to new directions recognize connections between objects and ideas and much more in this remarkable indispensable guide to freeing the creative spirit within all of us With new material by art world heavyweights Susan Friel and Barbara Loste Learning by Heart brings creative inspiration into the st century\n"
     ]
    },
    {
     "data": {
      "text/markdown": [
       "---"
      ],
      "text/plain": [
       "<IPython.core.display.Markdown object>"
      ]
     },
     "metadata": {},
     "output_type": "display_data"
    },
    {
     "data": {
      "text/markdown": [
       "**Book**: Lets Draw Manga All About Fighting"
      ],
      "text/plain": [
       "<IPython.core.display.Markdown object>"
      ]
     },
     "metadata": {},
     "output_type": "display_data"
    },
    {
     "data": {
      "text/markdown": [
       "**Authors**: Makoto Nakajima, Big Mouth Factory"
      ],
      "text/plain": [
       "<IPython.core.display.Markdown object>"
      ]
     },
     "metadata": {},
     "output_type": "display_data"
    },
    {
     "data": {
      "text/markdown": [
       "**Categories**: Art"
      ],
      "text/plain": [
       "<IPython.core.display.Markdown object>"
      ]
     },
     "metadata": {},
     "output_type": "display_data"
    },
    {
     "data": {
      "text/markdown": [
       "**Average Review Score**: 4.43 "
      ],
      "text/plain": [
       "<IPython.core.display.Markdown object>"
      ]
     },
     "metadata": {},
     "output_type": "display_data"
    },
    {
     "data": {
      "text/markdown": [
       "**Review Sentiment Score**: 30 "
      ],
      "text/plain": [
       "<IPython.core.display.Markdown object>"
      ]
     },
     "metadata": {},
     "output_type": "display_data"
    },
    {
     "name": "stdout",
     "output_type": "stream",
     "text": [
      "LETS DRAW MANGAALL ABOUT FIGHTING Urban street rumbles battling maids destructive fantasy creatures and futuristic battle sequencesits all covered here Everything from learning how to draw gun combat down to the most pedestrian and domestic husband and wife disputes this unique instructional guide presents to readers stepbystep drawing techniques and the hows and whys of effective manga storytelling from the perspective of a manga artist This book is sure to pack a big punch for those wanting to learn how to draw dynamic battle royals with the unique manga flavor\n"
     ]
    },
    {
     "data": {
      "text/markdown": [
       "---"
      ],
      "text/plain": [
       "<IPython.core.display.Markdown object>"
      ]
     },
     "metadata": {},
     "output_type": "display_data"
    },
    {
     "data": {
      "text/markdown": [
       "**Book**: Lets Draw Manga"
      ],
      "text/plain": [
       "<IPython.core.display.Markdown object>"
      ]
     },
     "metadata": {},
     "output_type": "display_data"
    },
    {
     "data": {
      "text/markdown": [
       "**Authors**: Makoto Nakajima, Big Mouth Factory"
      ],
      "text/plain": [
       "<IPython.core.display.Markdown object>"
      ]
     },
     "metadata": {},
     "output_type": "display_data"
    },
    {
     "data": {
      "text/markdown": [
       "**Categories**: Art"
      ],
      "text/plain": [
       "<IPython.core.display.Markdown object>"
      ]
     },
     "metadata": {},
     "output_type": "display_data"
    },
    {
     "data": {
      "text/markdown": [
       "**Average Review Score**: 4.11 "
      ],
      "text/plain": [
       "<IPython.core.display.Markdown object>"
      ]
     },
     "metadata": {},
     "output_type": "display_data"
    },
    {
     "data": {
      "text/markdown": [
       "**Review Sentiment Score**: 79 "
      ],
      "text/plain": [
       "<IPython.core.display.Markdown object>"
      ]
     },
     "metadata": {},
     "output_type": "display_data"
    },
    {
     "name": "stdout",
     "output_type": "stream",
     "text": [
      "LETS DRAW MANGAALL ABOUT FIGHTING Urban street rumbles battling maids destructive fantasy creatures and futuristic battle sequencesits all covered here Everything from learning how to draw gun combat down to the most pedestrian and domestic husband and wife disputes this unique instructional guide presents to readers stepbystep drawing techniques and the hows and whys of effective manga storytelling from the perspective of a manga artist This book is sure to pack a big punch for those wanting to learn how to draw dynamic battle royals with the unique manga flavor\n"
     ]
    },
    {
     "data": {
      "text/markdown": [
       "---"
      ],
      "text/plain": [
       "<IPython.core.display.Markdown object>"
      ]
     },
     "metadata": {},
     "output_type": "display_data"
    },
    {
     "data": {
      "text/markdown": [
       "**Book**: Draw Real People Discover Drawing"
      ],
      "text/plain": [
       "<IPython.core.display.Markdown object>"
      ]
     },
     "metadata": {},
     "output_type": "display_data"
    },
    {
     "data": {
      "text/markdown": [
       "**Authors**: Lee Hammond"
      ],
      "text/plain": [
       "<IPython.core.display.Markdown object>"
      ]
     },
     "metadata": {},
     "output_type": "display_data"
    },
    {
     "data": {
      "text/markdown": [
       "**Categories**: Art"
      ],
      "text/plain": [
       "<IPython.core.display.Markdown object>"
      ]
     },
     "metadata": {},
     "output_type": "display_data"
    },
    {
     "data": {
      "text/markdown": [
       "**Average Review Score**: 4.6 "
      ],
      "text/plain": [
       "<IPython.core.display.Markdown object>"
      ]
     },
     "metadata": {},
     "output_type": "display_data"
    },
    {
     "data": {
      "text/markdown": [
       "**Review Sentiment Score**: 80 "
      ],
      "text/plain": [
       "<IPython.core.display.Markdown object>"
      ]
     },
     "metadata": {},
     "output_type": "display_data"
    },
    {
     "name": "stdout",
     "output_type": "stream",
     "text": [
      "Having trouble drawing a nose that looks like a nose In this stepbystep guide Lee Hammond will teach you how to draw realisticlooking portraits of your favorite peoplemore easily than you ever thought possible Really The secret is in the blending With pencil and paper Lee shows you how to create gradual smooth shadings of light and dark to replicate the subtle contours of skinand how to use these simple shading techniques to make any shape look threedimensional After youve got the basics down youll see how to draw every part of the face Its made easy by looking at each feature as simple interlocking shapes then adding the right highlights and shadows In no time youll be drawing realistic noses mouths eyes earseven facial expressions Then youll see how to put all those features together to create an expressive portrait that actually looks like your subject Stepbystep demonstrations guide you all the way\n"
     ]
    },
    {
     "data": {
      "text/markdown": [
       "---"
      ],
      "text/plain": [
       "<IPython.core.display.Markdown object>"
      ]
     },
     "metadata": {},
     "output_type": "display_data"
    },
    {
     "data": {
      "text/markdown": [
       "**Book**: How to Draw Spiderman Walter Foster How to Draw Series"
      ],
      "text/plain": [
       "<IPython.core.display.Markdown object>"
      ]
     },
     "metadata": {},
     "output_type": "display_data"
    },
    {
     "data": {
      "text/markdown": [
       "**Authors**: Walter Foster Creative Team"
      ],
      "text/plain": [
       "<IPython.core.display.Markdown object>"
      ]
     },
     "metadata": {},
     "output_type": "display_data"
    },
    {
     "data": {
      "text/markdown": [
       "**Categories**: Art"
      ],
      "text/plain": [
       "<IPython.core.display.Markdown object>"
      ]
     },
     "metadata": {},
     "output_type": "display_data"
    },
    {
     "data": {
      "text/markdown": [
       "**Average Review Score**: 4.5 "
      ],
      "text/plain": [
       "<IPython.core.display.Markdown object>"
      ]
     },
     "metadata": {},
     "output_type": "display_data"
    },
    {
     "data": {
      "text/markdown": [
       "**Review Sentiment Score**: 84 "
      ],
      "text/plain": [
       "<IPython.core.display.Markdown object>"
      ]
     },
     "metadata": {},
     "output_type": "display_data"
    },
    {
     "name": "stdout",
     "output_type": "stream",
     "text": [
      "With his spider powers and highflying acrobatics SpiderMan is one of the most famous and lasting Super Heroes of all time In Learn to Draw Marvels SpiderMan Marvel artist Cory Hamscher provides stepbystep instructions for drawing SpiderMan characters and villains including series favorites Carnage Venom and Doctor Octopus Learn to Draw Marvels SpiderMan helps both beginning and advanced artists develop stepbystep renderings from beginning sketches to finished product With bonus character descriptions and artist tips it teaches professional technique and gives some of the rich backstory behind every character This truly is an amazing SpiderMan experience\n"
     ]
    },
    {
     "data": {
      "text/markdown": [
       "---"
      ],
      "text/plain": [
       "<IPython.core.display.Markdown object>"
      ]
     },
     "metadata": {},
     "output_type": "display_data"
    }
   ],
   "source": [
    "book_recommendations = book_recommendations.head(5)\n",
    "\n",
    "for index, row in book_recommendations.iterrows():\n",
    "    title = row['Title']\n",
    "    authors = row['Authors']\n",
    "    description = row['Description']\n",
    "    review_score = row['avg_review_score']\n",
    "    categories = row['Categories']\n",
    "    review_sentiment_score = row['average_review_sentiment_score'] \n",
    "    display(Markdown(f\"**Book**: {title}\"))\n",
    "    display(Markdown(f\"**Authors**: {authors}\"))\n",
    "    display(Markdown(f\"**Categories**: {categories}\"))\n",
    "    display(Markdown(f\"**Average Review Score**: {review_score} \"))\n",
    "    display(Markdown(f\"**Review Sentiment Score**: {review_sentiment_score} \"))\n",
    "    print(f\"{description}\")\n",
    "    display(Markdown(\"---\"))\n"
   ]
  }
 ],
 "metadata": {
  "kernelspec": {
   "display_name": "Python 3",
   "language": "python",
   "name": "python3"
  },
  "language_info": {
   "codemirror_mode": {
    "name": "ipython",
    "version": 3
   },
   "file_extension": ".py",
   "mimetype": "text/x-python",
   "name": "python",
   "nbconvert_exporter": "python",
   "pygments_lexer": "ipython3",
   "version": "3.8.8"
  }
 },
 "nbformat": 4,
 "nbformat_minor": 5
}
